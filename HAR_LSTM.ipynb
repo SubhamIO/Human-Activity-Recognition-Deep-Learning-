{
 "cells": [
  {
   "cell_type": "code",
   "execution_count": 1,
   "metadata": {
    "collapsed": true
   },
   "outputs": [],
   "source": [
    "# Importing Libraries"
   ]
  },
  {
   "cell_type": "code",
   "execution_count": 1,
   "metadata": {},
   "outputs": [],
   "source": [
    "import pandas as pd\n",
    "import numpy as np"
   ]
  },
  {
   "cell_type": "code",
   "execution_count": 2,
   "metadata": {},
   "outputs": [],
   "source": [
    "# Activities are the class labels\n",
    "# It is a 6 class classification\n",
    "ACTIVITIES = {\n",
    "    0: 'WALKING',\n",
    "    1: 'WALKING_UPSTAIRS',\n",
    "    2: 'WALKING_DOWNSTAIRS',\n",
    "    3: 'SITTING',\n",
    "    4: 'STANDING',\n",
    "    5: 'LAYING',\n",
    "}\n",
    "\n",
    "# Utility function to print the confusion matrix\n",
    "def confusion_matrix(Y_true, Y_pred):\n",
    "    Y_true = pd.Series([ACTIVITIES[y] for y in np.argmax(Y_true, axis=1)])\n",
    "    Y_pred = pd.Series([ACTIVITIES[y] for y in np.argmax(Y_pred, axis=1)])\n",
    "\n",
    "    return pd.crosstab(Y_true, Y_pred, rownames=['True'], colnames=['Pred'])"
   ]
  },
  {
   "cell_type": "markdown",
   "metadata": {},
   "source": [
    "### Data"
   ]
  },
  {
   "cell_type": "code",
   "execution_count": 3,
   "metadata": {},
   "outputs": [],
   "source": [
    "# Data directory\n",
    "DATADIR = 'UCI_HAR_Dataset'"
   ]
  },
  {
   "cell_type": "code",
   "execution_count": 4,
   "metadata": {},
   "outputs": [],
   "source": [
    "# Raw data signals\n",
    "# Signals are from Accelerometer and Gyroscope\n",
    "# The signals are in x,y,z directions\n",
    "# Sensor signals are filtered to have only body acceleration\n",
    "# excluding the acceleration due to gravity\n",
    "# Triaxial acceleration from the accelerometer is total acceleration\n",
    "SIGNALS = [\n",
    "    \"body_acc_x\",\n",
    "    \"body_acc_y\",\n",
    "    \"body_acc_z\",\n",
    "    \"body_gyro_x\",\n",
    "    \"body_gyro_y\",\n",
    "    \"body_gyro_z\",\n",
    "    \"total_acc_x\",\n",
    "    \"total_acc_y\",\n",
    "    \"total_acc_z\"\n",
    "]"
   ]
  },
  {
   "cell_type": "code",
   "execution_count": 5,
   "metadata": {},
   "outputs": [],
   "source": [
    "import os\n",
    "os.chdir('C:/Users/kingsubham27091995/Desktop/AppliedAiCouse/CASE STUDIES/HumanActivityRecognition/HAR')"
   ]
  },
  {
   "cell_type": "code",
   "execution_count": 6,
   "metadata": {},
   "outputs": [],
   "source": [
    "# Utility function to read the data from csv file\n",
    "def _read_csv(filename):\n",
    "    return pd.read_csv(filename, delim_whitespace=True, header=None)\n",
    "\n",
    "# Utility function to load the load\n",
    "def load_signals(subset):\n",
    "    signals_data = []\n",
    "\n",
    "    for signal in SIGNALS:\n",
    "        filename = f'UCI_HAR_Dataset/{subset}/Inertial Signals/{signal}_{subset}.txt'\n",
    "        signals_data.append(\n",
    "            _read_csv(filename).as_matrix()\n",
    "        ) \n",
    "\n",
    "    # Transpose is used to change the dimensionality of the output,\n",
    "    # aggregating the signals by combination of sample/timestep.\n",
    "    # Resultant shape is (7352 train/2947 test samples, 128 timesteps, 9 signals)\n",
    "    return np.transpose(signals_data, (1, 2, 0))"
   ]
  },
  {
   "cell_type": "code",
   "execution_count": 7,
   "metadata": {},
   "outputs": [],
   "source": [
    "\n",
    "def load_y(subset):\n",
    "    \"\"\"\n",
    "    The objective that we are trying to predict is a integer, from 1 to 6,\n",
    "    that represents a human activity. We return a binary representation of \n",
    "    every sample objective as a 6 bits vector using One Hot Encoding\n",
    "    (https://pandas.pydata.org/pandas-docs/stable/generated/pandas.get_dummies.html)\n",
    "    \"\"\"\n",
    "    filename = f'UCI_HAR_Dataset/{subset}/y_{subset}.txt'\n",
    "    y = _read_csv(filename)[0]\n",
    "\n",
    "    return pd.get_dummies(y).as_matrix()"
   ]
  },
  {
   "cell_type": "code",
   "execution_count": 8,
   "metadata": {},
   "outputs": [],
   "source": [
    "def load_data():\n",
    "    \"\"\"\n",
    "    Obtain the dataset from multiple files.\n",
    "    Returns: X_train, X_test, y_train, y_test\n",
    "    \"\"\"\n",
    "    X_train, X_test = load_signals('train'), load_signals('test')\n",
    "    y_train, y_test = load_y('train'), load_y('test')\n",
    "\n",
    "    return X_train, X_test, y_train, y_test"
   ]
  },
  {
   "cell_type": "code",
   "execution_count": 9,
   "metadata": {},
   "outputs": [],
   "source": [
    "# Importing tensorflow\n",
    "np.random.seed(42)\n",
    "import tensorflow as tf\n",
    "tf.set_random_seed(42)"
   ]
  },
  {
   "cell_type": "code",
   "execution_count": 10,
   "metadata": {},
   "outputs": [],
   "source": [
    "# Configuring a session\n",
    "session_conf = tf.ConfigProto(\n",
    "    intra_op_parallelism_threads=1,\n",
    "    inter_op_parallelism_threads=1\n",
    ")"
   ]
  },
  {
   "cell_type": "code",
   "execution_count": 11,
   "metadata": {},
   "outputs": [
    {
     "name": "stderr",
     "output_type": "stream",
     "text": [
      "Using TensorFlow backend.\n"
     ]
    }
   ],
   "source": [
    "# Import Keras\n",
    "from keras import backend as K\n",
    "sess = tf.Session(graph=tf.get_default_graph(), config=session_conf)\n",
    "K.set_session(sess)"
   ]
  },
  {
   "cell_type": "code",
   "execution_count": 12,
   "metadata": {},
   "outputs": [],
   "source": [
    "# Importing libraries\n",
    "from keras.models import Sequential\n",
    "from keras.layers import LSTM\n",
    "from keras.layers.core import Dense, Dropout"
   ]
  },
  {
   "cell_type": "code",
   "execution_count": 13,
   "metadata": {},
   "outputs": [],
   "source": [
    "# Initializing parameters\n",
    "epochs = 30\n",
    "batch_size = 16\n",
    "n_hidden = 32"
   ]
  },
  {
   "cell_type": "code",
   "execution_count": 14,
   "metadata": {},
   "outputs": [],
   "source": [
    "# Utility function to count the number of classes\n",
    "def _count_classes(y):\n",
    "    return len(set([tuple(category) for category in y]))"
   ]
  },
  {
   "cell_type": "code",
   "execution_count": 15,
   "metadata": {},
   "outputs": [
    {
     "name": "stderr",
     "output_type": "stream",
     "text": [
      "C:\\Users\\kingsubham27091995\\Anaconda3\\lib\\site-packages\\ipykernel_launcher.py:12: FutureWarning: Method .as_matrix will be removed in a future version. Use .values instead.\n",
      "  if sys.path[0] == '':\n"
     ]
    }
   ],
   "source": [
    "# Loading the train and test data\n",
    "X_train, X_test, Y_train, Y_test = load_data()"
   ]
  },
  {
   "cell_type": "code",
   "execution_count": 16,
   "metadata": {},
   "outputs": [
    {
     "name": "stdout",
     "output_type": "stream",
     "text": [
      "128\n",
      "9\n",
      "7352\n"
     ]
    }
   ],
   "source": [
    "timesteps = len(X_train[0])\n",
    "input_dim = len(X_train[0][0])\n",
    "n_classes = _count_classes(Y_train)\n",
    "\n",
    "print(timesteps)\n",
    "print(input_dim)\n",
    "print(len(X_train))"
   ]
  },
  {
   "cell_type": "markdown",
   "metadata": {},
   "source": [
    "## 1- Layer LSTM"
   ]
  },
  {
   "cell_type": "code",
   "execution_count": 17,
   "metadata": {},
   "outputs": [
    {
     "name": "stdout",
     "output_type": "stream",
     "text": [
      "WARNING:tensorflow:From C:\\Users\\kingsubham27091995\\Anaconda3\\lib\\site-packages\\tensorflow\\python\\framework\\op_def_library.py:263: colocate_with (from tensorflow.python.framework.ops) is deprecated and will be removed in a future version.\n",
      "Instructions for updating:\n",
      "Colocations handled automatically by placer.\n",
      "WARNING:tensorflow:From C:\\Users\\kingsubham27091995\\Anaconda3\\lib\\site-packages\\keras\\backend\\tensorflow_backend.py:3445: calling dropout (from tensorflow.python.ops.nn_ops) with keep_prob is deprecated and will be removed in a future version.\n",
      "Instructions for updating:\n",
      "Please use `rate` instead of `keep_prob`. Rate should be set to `rate = 1 - keep_prob`.\n",
      "_________________________________________________________________\n",
      "Layer (type)                 Output Shape              Param #   \n",
      "=================================================================\n",
      "lstm_1 (LSTM)                (None, 32)                5376      \n",
      "_________________________________________________________________\n",
      "dropout_1 (Dropout)          (None, 32)                0         \n",
      "_________________________________________________________________\n",
      "dense_1 (Dense)              (None, 6)                 198       \n",
      "=================================================================\n",
      "Total params: 5,574\n",
      "Trainable params: 5,574\n",
      "Non-trainable params: 0\n",
      "_________________________________________________________________\n"
     ]
    }
   ],
   "source": [
    "# Initiliazing the sequential model\n",
    "model = Sequential()\n",
    "# Configuring the parameters\n",
    "model.add(LSTM(n_hidden, input_shape=(timesteps, input_dim)))\n",
    "# Adding a dropout layer\n",
    "model.add(Dropout(0.5))\n",
    "# Adding a dense output layer with sigmoid activation\n",
    "model.add(Dense(n_classes, activation='sigmoid'))\n",
    "model.summary()"
   ]
  },
  {
   "cell_type": "code",
   "execution_count": 18,
   "metadata": {},
   "outputs": [],
   "source": [
    "# Compiling the model\n",
    "model.compile(loss='categorical_crossentropy',\n",
    "              optimizer='rmsprop',\n",
    "              metrics=['accuracy'])"
   ]
  },
  {
   "cell_type": "code",
   "execution_count": 19,
   "metadata": {},
   "outputs": [
    {
     "name": "stdout",
     "output_type": "stream",
     "text": [
      "WARNING:tensorflow:From C:\\Users\\kingsubham27091995\\Anaconda3\\lib\\site-packages\\tensorflow\\python\\ops\\math_ops.py:3066: to_int32 (from tensorflow.python.ops.math_ops) is deprecated and will be removed in a future version.\n",
      "Instructions for updating:\n",
      "Use tf.cast instead.\n",
      "Train on 7352 samples, validate on 2947 samples\n",
      "Epoch 1/30\n",
      "7352/7352 [==============================] - 41s 6ms/step - loss: 1.3306 - acc: 0.4361 - val_loss: 1.1743 - val_acc: 0.4723\n",
      "Epoch 2/30\n",
      "7352/7352 [==============================] - 40s 5ms/step - loss: 0.9716 - acc: 0.5788 - val_loss: 0.9656 - val_acc: 0.5263\n",
      "Epoch 3/30\n",
      "7352/7352 [==============================] - 40s 5ms/step - loss: 0.7787 - acc: 0.6510 - val_loss: 0.7841 - val_acc: 0.6135\n",
      "Epoch 4/30\n",
      "7352/7352 [==============================] - 40s 5ms/step - loss: 0.6911 - acc: 0.6587 - val_loss: 0.7109 - val_acc: 0.6203\n",
      "Epoch 5/30\n",
      "7352/7352 [==============================] - 41s 6ms/step - loss: 0.6496 - acc: 0.6794 - val_loss: 0.8000 - val_acc: 0.6362\n",
      "Epoch 6/30\n",
      "7352/7352 [==============================] - 44s 6ms/step - loss: 0.8295 - acc: 0.6221 - val_loss: 0.7970 - val_acc: 0.6318\n",
      "Epoch 7/30\n",
      "7352/7352 [==============================] - 41s 6ms/step - loss: 0.5920 - acc: 0.7122 - val_loss: 0.6816 - val_acc: 0.7038\n",
      "Epoch 8/30\n",
      "7352/7352 [==============================] - 41s 6ms/step - loss: 0.5472 - acc: 0.7594 - val_loss: 0.6473 - val_acc: 0.7258\n",
      "Epoch 9/30\n",
      "7352/7352 [==============================] - 41s 6ms/step - loss: 0.4838 - acc: 0.7805 - val_loss: 0.6033 - val_acc: 0.7445\n",
      "Epoch 10/30\n",
      "7352/7352 [==============================] - 41s 6ms/step - loss: 0.4212 - acc: 0.7907 - val_loss: 0.5396 - val_acc: 0.7472\n",
      "Epoch 11/30\n",
      "7352/7352 [==============================] - 41s 6ms/step - loss: 0.3967 - acc: 0.8084 - val_loss: 0.5399 - val_acc: 0.7526\n",
      "Epoch 12/30\n",
      "7352/7352 [==============================] - 41s 6ms/step - loss: 0.3609 - acc: 0.8407 - val_loss: 0.5420 - val_acc: 0.8222\n",
      "Epoch 13/30\n",
      "7352/7352 [==============================] - 41s 6ms/step - loss: 0.3312 - acc: 0.8798 - val_loss: 0.5038 - val_acc: 0.8673\n",
      "Epoch 14/30\n",
      "7352/7352 [==============================] - 41s 6ms/step - loss: 0.3000 - acc: 0.9053 - val_loss: 0.4823 - val_acc: 0.8758\n",
      "Epoch 15/30\n",
      "7352/7352 [==============================] - 42s 6ms/step - loss: 0.2574 - acc: 0.9230 - val_loss: 0.5465 - val_acc: 0.8731\n",
      "Epoch 16/30\n",
      "7352/7352 [==============================] - 41s 6ms/step - loss: 0.2383 - acc: 0.9293 - val_loss: 0.5054 - val_acc: 0.8694\n",
      "Epoch 17/30\n",
      "7352/7352 [==============================] - 39s 5ms/step - loss: 0.2271 - acc: 0.9313 - val_loss: 0.5409 - val_acc: 0.8653\n",
      "Epoch 18/30\n",
      "7352/7352 [==============================] - 40s 5ms/step - loss: 0.2121 - acc: 0.9353 - val_loss: 0.5611 - val_acc: 0.8677\n",
      "Epoch 19/30\n",
      "7352/7352 [==============================] - 41s 6ms/step - loss: 0.2129 - acc: 0.9355 - val_loss: 0.5293 - val_acc: 0.8887\n",
      "Epoch 20/30\n",
      "7352/7352 [==============================] - 41s 6ms/step - loss: 0.1825 - acc: 0.9425 - val_loss: 0.4945 - val_acc: 0.8656\n",
      "Epoch 21/30\n",
      "7352/7352 [==============================] - 43s 6ms/step - loss: 0.1857 - acc: 0.9400 - val_loss: 0.4470 - val_acc: 0.8836\n",
      "Epoch 22/30\n",
      "7352/7352 [==============================] - 41s 6ms/step - loss: 0.1827 - acc: 0.9445 - val_loss: 0.7009 - val_acc: 0.8517\n",
      "Epoch 23/30\n",
      "7352/7352 [==============================] - 44s 6ms/step - loss: 0.1909 - acc: 0.9391 - val_loss: 0.5290 - val_acc: 0.8884\n",
      "Epoch 24/30\n",
      "7352/7352 [==============================] - 39s 5ms/step - loss: 0.1925 - acc: 0.9399 - val_loss: 0.6053 - val_acc: 0.8812\n",
      "Epoch 25/30\n",
      "7352/7352 [==============================] - 40s 5ms/step - loss: 0.1821 - acc: 0.9440 - val_loss: 0.4675 - val_acc: 0.8765\n",
      "Epoch 26/30\n",
      "7352/7352 [==============================] - 40s 5ms/step - loss: 0.1773 - acc: 0.9448 - val_loss: 0.5316 - val_acc: 0.8826\n",
      "Epoch 27/30\n",
      "7352/7352 [==============================] - 43s 6ms/step - loss: 0.1817 - acc: 0.9406 - val_loss: 0.5282 - val_acc: 0.8843\n",
      "Epoch 28/30\n",
      "7352/7352 [==============================] - 40s 5ms/step - loss: 0.1966 - acc: 0.9402 - val_loss: 0.5390 - val_acc: 0.8931\n",
      "Epoch 29/30\n",
      "7352/7352 [==============================] - 40s 5ms/step - loss: 0.2257 - acc: 0.9291 - val_loss: 0.4739 - val_acc: 0.8948\n",
      "Epoch 30/30\n",
      "7352/7352 [==============================] - 44s 6ms/step - loss: 0.1745 - acc: 0.9442 - val_loss: 0.4692 - val_acc: 0.8806\n"
     ]
    },
    {
     "data": {
      "text/plain": [
       "<keras.callbacks.History at 0x8cc27a668>"
      ]
     },
     "execution_count": 19,
     "metadata": {},
     "output_type": "execute_result"
    }
   ],
   "source": [
    "# Training the model\n",
    "model.fit(X_train,\n",
    "          Y_train,\n",
    "          batch_size=batch_size,\n",
    "          validation_data=(X_test, Y_test),\n",
    "          epochs=epochs)"
   ]
  },
  {
   "cell_type": "code",
   "execution_count": 20,
   "metadata": {},
   "outputs": [
    {
     "name": "stdout",
     "output_type": "stream",
     "text": [
      "Pred                LAYING  SITTING  STANDING  WALKING  WALKING_DOWNSTAIRS  \\\n",
      "True                                                                         \n",
      "LAYING                 510        0         0        0                   0   \n",
      "SITTING                  0      398        66        0                   0   \n",
      "STANDING                 0      100       418        2                   0   \n",
      "WALKING                  0        3         0      465                   8   \n",
      "WALKING_DOWNSTAIRS       0        0         0        0                 360   \n",
      "WALKING_UPSTAIRS         0        3         0       23                   1   \n",
      "\n",
      "Pred                WALKING_UPSTAIRS  \n",
      "True                                  \n",
      "LAYING                            27  \n",
      "SITTING                           27  \n",
      "STANDING                          12  \n",
      "WALKING                           20  \n",
      "WALKING_DOWNSTAIRS                60  \n",
      "WALKING_UPSTAIRS                 444  \n"
     ]
    }
   ],
   "source": [
    "# Confusion Matrix\n",
    "print(confusion_matrix(Y_test, model.predict(X_test)))"
   ]
  },
  {
   "cell_type": "code",
   "execution_count": 21,
   "metadata": {},
   "outputs": [
    {
     "name": "stdout",
     "output_type": "stream",
     "text": [
      "2947/2947 [==============================] - 2s 532us/step\n"
     ]
    }
   ],
   "source": [
    "score = model.evaluate(X_test, Y_test)"
   ]
  },
  {
   "cell_type": "code",
   "execution_count": 22,
   "metadata": {},
   "outputs": [
    {
     "data": {
      "text/plain": [
       "[0.4692274864947224, 0.8805564981336953]"
      ]
     },
     "execution_count": 22,
     "metadata": {},
     "output_type": "execute_result"
    }
   ],
   "source": [
    "score"
   ]
  },
  {
   "cell_type": "markdown",
   "metadata": {},
   "source": [
    "- With a simple 2 layer architecture we got 88.05% accuracy and a loss of 0.46\n",
    "- We can further imporve the performace with Hyperparameter tuning"
   ]
  },
  {
   "cell_type": "markdown",
   "metadata": {},
   "source": [
    "## Hyperparameter Tuning with different DropOut Rates keeping LSTM Units=32"
   ]
  },
  {
   "cell_type": "code",
   "execution_count": 29,
   "metadata": {},
   "outputs": [],
   "source": [
    "from keras.wrappers.scikit_learn import KerasClassifier\n",
    "from sklearn.model_selection import GridSearchCV\n",
    "from keras.models import Sequential\n",
    "from keras.layers.core import Dense, Dropout\n",
    "from keras.layers import LSTM"
   ]
  },
  {
   "cell_type": "code",
   "execution_count": 30,
   "metadata": {},
   "outputs": [],
   "source": [
    "def build_model(units, rate):\n",
    "    model = Sequential() # Initiliazing the sequential model\n",
    "    model.add(LSTM(units=units, input_shape=(timesteps, input_dim))) # Configuring the parameters\n",
    "    model.add(Dropout(rate=rate)) # Adding a dropout layer\n",
    "    model.add(Dense(units=6, kernel_initializer='he_normal', activation='sigmoid')) # Adding a dense output layer with sigmoid activation\n",
    "    model.compile(loss='categorical_crossentropy', optimizer='rmsprop', metrics=['accuracy']) #Compiling the model\n",
    "    #model.summary()\n",
    "    return model"
   ]
  },
  {
   "cell_type": "code",
   "execution_count": 35,
   "metadata": {},
   "outputs": [],
   "source": [
    "model = KerasClassifier(build_fn = build_model)\n",
    "parameters = {'units': [32],\n",
    "              'rate': [0.25, 0.5,0.7]\n",
    "              }"
   ]
  },
  {
   "cell_type": "code",
   "execution_count": 39,
   "metadata": {},
   "outputs": [
    {
     "name": "stdout",
     "output_type": "stream",
     "text": [
      "Epoch 1/30\n",
      "7352/7352 [==============================] - 25s 3ms/step - loss: 1.3526 - acc: 0.4433\n",
      "Epoch 2/30\n",
      "7352/7352 [==============================] - 20s 3ms/step - loss: 1.0738 - acc: 0.5226\n",
      "Epoch 3/30\n",
      "7352/7352 [==============================] - 20s 3ms/step - loss: 1.0310 - acc: 0.5574\n",
      "Epoch 4/30\n",
      "7352/7352 [==============================] - 20s 3ms/step - loss: 0.8162 - acc: 0.6265\n",
      "Epoch 5/30\n",
      "7352/7352 [==============================] - 20s 3ms/step - loss: 0.7050 - acc: 0.6714\n",
      "Epoch 6/30\n",
      "7352/7352 [==============================] - 20s 3ms/step - loss: 0.6713 - acc: 0.7178\n",
      "Epoch 7/30\n",
      "7352/7352 [==============================] - 20s 3ms/step - loss: 0.6267 - acc: 0.7594\n",
      "Epoch 8/30\n",
      "7352/7352 [==============================] - 20s 3ms/step - loss: 0.5190 - acc: 0.8051\n",
      "Epoch 9/30\n",
      "7352/7352 [==============================] - 20s 3ms/step - loss: 0.4214 - acc: 0.8628\n",
      "Epoch 10/30\n",
      "7352/7352 [==============================] - 20s 3ms/step - loss: 0.3776 - acc: 0.8848\n",
      "Epoch 11/30\n",
      "7352/7352 [==============================] - 21s 3ms/step - loss: 0.2947 - acc: 0.9117\n",
      "Epoch 12/30\n",
      "7352/7352 [==============================] - 20s 3ms/step - loss: 0.2533 - acc: 0.9197\n",
      "Epoch 13/30\n",
      "7352/7352 [==============================] - 20s 3ms/step - loss: 0.2463 - acc: 0.9267\n",
      "Epoch 14/30\n",
      "7352/7352 [==============================] - 20s 3ms/step - loss: 0.2160 - acc: 0.9320\n",
      "Epoch 15/30\n",
      "7352/7352 [==============================] - 20s 3ms/step - loss: 0.2013 - acc: 0.9327\n",
      "Epoch 16/30\n",
      "7352/7352 [==============================] - 20s 3ms/step - loss: 0.1869 - acc: 0.9355\n",
      "Epoch 17/30\n",
      "7352/7352 [==============================] - 21s 3ms/step - loss: 0.1922 - acc: 0.9357\n",
      "Epoch 18/30\n",
      "7352/7352 [==============================] - 20s 3ms/step - loss: 0.1783 - acc: 0.9384\n",
      "Epoch 19/30\n",
      "7352/7352 [==============================] - 20s 3ms/step - loss: 0.1793 - acc: 0.9372\n",
      "Epoch 20/30\n",
      "7352/7352 [==============================] - 20s 3ms/step - loss: 0.1665 - acc: 0.9429\n",
      "Epoch 21/30\n",
      "7352/7352 [==============================] - 20s 3ms/step - loss: 0.1643 - acc: 0.9399\n",
      "Epoch 22/30\n",
      "7352/7352 [==============================] - 20s 3ms/step - loss: 0.1585 - acc: 0.9412\n",
      "Epoch 23/30\n",
      "7352/7352 [==============================] - 20s 3ms/step - loss: 0.1409 - acc: 0.9419\n",
      "Epoch 24/30\n",
      "7352/7352 [==============================] - 20s 3ms/step - loss: 0.1416 - acc: 0.9455\n",
      "Epoch 25/30\n",
      "7352/7352 [==============================] - 21s 3ms/step - loss: 0.1419 - acc: 0.9482\n",
      "Epoch 26/30\n",
      "7352/7352 [==============================] - 20s 3ms/step - loss: 0.1490 - acc: 0.9490\n",
      "Epoch 27/30\n",
      "7352/7352 [==============================] - 20s 3ms/step - loss: 0.1401 - acc: 0.9495\n",
      "Epoch 28/30\n",
      "7352/7352 [==============================] - 20s 3ms/step - loss: 0.1365 - acc: 0.9482\n",
      "Epoch 29/30\n",
      "7352/7352 [==============================] - 20s 3ms/step - loss: 0.1320 - acc: 0.9510\n",
      "Epoch 30/30\n",
      "7352/7352 [==============================] - 20s 3ms/step - loss: 0.1304 - acc: 0.9510\n"
     ]
    }
   ],
   "source": [
    "grid_search_CV = GridSearchCV(estimator = model,\n",
    "                           param_grid = parameters,\n",
    "                           cv = 3,\n",
    "                           n_jobs=4)\n",
    "grid_search = grid_search_CV.fit(X_train, Y_train, epochs=30)"
   ]
  },
  {
   "cell_type": "code",
   "execution_count": 41,
   "metadata": {},
   "outputs": [
    {
     "name": "stdout",
     "output_type": "stream",
     "text": [
      "Best: 0.900027 using {'rate': 0.25, 'units': 32}\n",
      "0.900027 (0.011693) with: {'rate': 0.25, 'units': 32}\n",
      "0.803047 (0.064273) with: {'rate': 0.5, 'units': 32}\n",
      "0.787677 (0.059909) with: {'rate': 0.7, 'units': 32}\n"
     ]
    }
   ],
   "source": [
    "print(\"Best: %f using %s\" % (grid_search.best_score_, grid_search.best_params_))\n",
    "means = grid_search.cv_results_['mean_test_score']\n",
    "stds = grid_search.cv_results_['std_test_score']\n",
    "params = grid_search.cv_results_['params']\n",
    "for mean, stdev, param in zip(means, stds, params):\n",
    "    print(\"%f (%f) with: %r\" % (mean, stdev, param))"
   ]
  },
  {
   "cell_type": "markdown",
   "metadata": {},
   "source": [
    "## After hyperparameter tuning :\n",
    "1. Accuracy=90%\n",
    "1. DropOut Rate=0.25(Best)\n",
    "1. LSTM Units= 32"
   ]
  },
  {
   "cell_type": "markdown",
   "metadata": {},
   "source": [
    "## Defining few Functions"
   ]
  },
  {
   "cell_type": "markdown",
   "metadata": {},
   "source": [
    "> __Plotting Confusion Matrix__"
   ]
  },
  {
   "cell_type": "code",
   "execution_count": 42,
   "metadata": {},
   "outputs": [],
   "source": [
    "# Plot Confusion Matrix\n",
    "def plot_confusion_matrix_lstm(y_test, y_predict):\n",
    "    result = confusion_matrix(y_test, y_predict)\n",
    "\n",
    "    plt.figure(figsize=(12, 10))\n",
    "    sns.heatmap(result, \n",
    "                xticklabels= list(ACTIVITIES.values()), \n",
    "                yticklabels=list(ACTIVITIES.values()), \n",
    "                annot=True, fmt=\"d\");\n",
    "    plt.title(\"Confusion matrix\")\n",
    "    plt.ylabel('True label')\n",
    "    plt.xlabel('Predicted label')\n",
    "    plt.show() "
   ]
  },
  {
   "cell_type": "markdown",
   "metadata": {},
   "source": [
    "> __Plotting epochs vs Loss __"
   ]
  },
  {
   "cell_type": "code",
   "execution_count": 43,
   "metadata": {},
   "outputs": [],
   "source": [
    "# Plot train and cross validation loss\n",
    "def plot_train_cv_loss(trained_model, epochs, colors=['b']):\n",
    "    fig, ax = plt.subplots(1,1)    \n",
    "    ax.set_xlabel('epoch') \n",
    "    ax.set_ylabel('Categorical Crossentropy Loss')\n",
    "    x_axis_values = list(range(1,epochs+1))\n",
    "\n",
    "    validation_loss = trained_model.history['val_loss']\n",
    "    train_loss = trained_model.history['loss']   \n",
    "    \n",
    "    ax.plot(x_axis_values, validation_loss, 'b', label=\"Validation Loss\")\n",
    "    ax.plot(x_axis_values, train_loss, 'r', label=\"Train Loss\")\n",
    "    plt.legend()\n",
    "    plt.grid()\n",
    "    fig.canvas.draw() "
   ]
  },
  {
   "cell_type": "markdown",
   "metadata": {},
   "source": [
    "## 2- Layer LSTM's"
   ]
  },
  {
   "cell_type": "code",
   "execution_count": 46,
   "metadata": {},
   "outputs": [],
   "source": [
    "# Initializing parameters\n",
    "n_epochs = 30\n",
    "n_batch = 16\n",
    "n_classes = _count_classes(Y_train)\n",
    "\n",
    "# Bias regularizer value - we will use elasticnet\n",
    "# https://machinelearningmastery.com/use-weight-regularization-lstm-networks-time-series-forecasting/\n",
    "from keras.regularizers import L1L2\n",
    "reg = L1L2(0.01, 0.01)"
   ]
  },
  {
   "cell_type": "markdown",
   "metadata": {},
   "source": [
    "> __LSTM units=32  , Dropout= 0.50__"
   ]
  },
  {
   "cell_type": "code",
   "execution_count": 51,
   "metadata": {},
   "outputs": [
    {
     "name": "stdout",
     "output_type": "stream",
     "text": [
      "Model Summary: \n",
      "Train on 7352 samples, validate on 2947 samples\n",
      "Epoch 1/30\n",
      "7352/7352 [==============================] - 91s 12ms/step - loss: 1.5640 - acc: 0.5994 - val_loss: 1.1322 - val_acc: 0.6695\n",
      "Epoch 2/30\n",
      "7352/7352 [==============================] - 86s 12ms/step - loss: 0.9878 - acc: 0.7040 - val_loss: 0.7904 - val_acc: 0.7323\n",
      "Epoch 3/30\n",
      "7352/7352 [==============================] - 84s 11ms/step - loss: 0.6829 - acc: 0.7848 - val_loss: 0.5545 - val_acc: 0.7788\n",
      "Epoch 4/30\n",
      "7352/7352 [==============================] - 91s 12ms/step - loss: 0.4845 - acc: 0.8428 - val_loss: 0.4397 - val_acc: 0.8602\n",
      "Epoch 5/30\n",
      "7352/7352 [==============================] - 93s 13ms/step - loss: 0.3833 - acc: 0.8862 - val_loss: 0.4002 - val_acc: 0.8599\n",
      "Epoch 6/30\n",
      "7352/7352 [==============================] - 85s 12ms/step - loss: 0.3076 - acc: 0.9115 - val_loss: 0.2842 - val_acc: 0.8985\n",
      "Epoch 7/30\n",
      "7352/7352 [==============================] - 88s 12ms/step - loss: 0.2519 - acc: 0.9261 - val_loss: 1.0203 - val_acc: 0.7116\n",
      "Epoch 8/30\n",
      "7352/7352 [==============================] - 86s 12ms/step - loss: 0.3189 - acc: 0.9037 - val_loss: 0.2970 - val_acc: 0.8958\n",
      "Epoch 9/30\n",
      "7352/7352 [==============================] - 86s 12ms/step - loss: 0.2219 - acc: 0.9268 - val_loss: 0.3042 - val_acc: 0.8958\n",
      "Epoch 10/30\n",
      "7352/7352 [==============================] - 89s 12ms/step - loss: 0.2215 - acc: 0.9302 - val_loss: 0.2411 - val_acc: 0.9101\n",
      "Epoch 11/30\n",
      "7352/7352 [==============================] - 86s 12ms/step - loss: 0.2006 - acc: 0.9339 - val_loss: 0.2770 - val_acc: 0.9036\n",
      "Epoch 12/30\n",
      "7352/7352 [==============================] - 87s 12ms/step - loss: 0.1817 - acc: 0.9378 - val_loss: 0.2839 - val_acc: 0.9125\n",
      "Epoch 13/30\n",
      "7352/7352 [==============================] - 87s 12ms/step - loss: 0.1762 - acc: 0.9403 - val_loss: 0.4473 - val_acc: 0.8728\n",
      "Epoch 14/30\n",
      "7352/7352 [==============================] - 93s 13ms/step - loss: 0.1854 - acc: 0.9389 - val_loss: 0.3484 - val_acc: 0.8867\n",
      "Epoch 15/30\n",
      "7352/7352 [==============================] - 91s 12ms/step - loss: 0.2271 - acc: 0.9293 - val_loss: 0.3191 - val_acc: 0.8911\n",
      "Epoch 16/30\n",
      "7352/7352 [==============================] - 94s 13ms/step - loss: 0.1714 - acc: 0.9391 - val_loss: 0.2779 - val_acc: 0.8958\n",
      "Epoch 17/30\n",
      "7352/7352 [==============================] - 82s 11ms/step - loss: 0.2248 - acc: 0.9174 - val_loss: 0.3189 - val_acc: 0.8951\n",
      "Epoch 18/30\n",
      "7352/7352 [==============================] - 82s 11ms/step - loss: 0.2096 - acc: 0.9295 - val_loss: 0.2639 - val_acc: 0.9087\n",
      "Epoch 19/30\n",
      "7352/7352 [==============================] - 82s 11ms/step - loss: 0.1689 - acc: 0.9406 - val_loss: 0.2267 - val_acc: 0.9192\n",
      "Epoch 20/30\n",
      "7352/7352 [==============================] - 82s 11ms/step - loss: 0.1505 - acc: 0.9423 - val_loss: 0.2738 - val_acc: 0.9118\n",
      "Epoch 21/30\n",
      "7352/7352 [==============================] - 83s 11ms/step - loss: 0.1518 - acc: 0.9426 - val_loss: 0.2770 - val_acc: 0.9101\n",
      "Epoch 22/30\n",
      "7352/7352 [==============================] - 82s 11ms/step - loss: 0.1641 - acc: 0.9423 - val_loss: 0.4021 - val_acc: 0.8643\n",
      "Epoch 23/30\n",
      "7352/7352 [==============================] - 82s 11ms/step - loss: 0.1631 - acc: 0.9429 - val_loss: 0.3267 - val_acc: 0.9104\n",
      "Epoch 24/30\n",
      "7352/7352 [==============================] - 82s 11ms/step - loss: 0.1572 - acc: 0.9433 - val_loss: 0.2833 - val_acc: 0.9172\n",
      "Epoch 25/30\n",
      "7352/7352 [==============================] - 82s 11ms/step - loss: 0.1519 - acc: 0.9444 - val_loss: 0.3053 - val_acc: 0.9141\n",
      "Epoch 26/30\n",
      "7352/7352 [==============================] - 83s 11ms/step - loss: 0.1513 - acc: 0.9426 - val_loss: 0.2493 - val_acc: 0.9165\n",
      "Epoch 27/30\n",
      "7352/7352 [==============================] - 82s 11ms/step - loss: 0.1599 - acc: 0.9423 - val_loss: 0.3090 - val_acc: 0.9060\n",
      "Epoch 28/30\n",
      "7352/7352 [==============================] - 83s 11ms/step - loss: 0.1628 - acc: 0.9436 - val_loss: 0.2902 - val_acc: 0.8975\n",
      "Epoch 29/30\n",
      "7352/7352 [==============================] - 81s 11ms/step - loss: 0.1402 - acc: 0.9484 - val_loss: 0.2604 - val_acc: 0.9114\n",
      "Epoch 30/30\n",
      "7352/7352 [==============================] - 82s 11ms/step - loss: 0.1399 - acc: 0.9479 - val_loss: 0.3167 - val_acc: 0.9050\n"
     ]
    }
   ],
   "source": [
    "from keras.layers import LSTM , BatchNormalization\n",
    "from keras.layers.core import Dense, Dropout\n",
    "# Model execution\n",
    "model = Sequential()\n",
    "model.add(LSTM(32, input_shape=(timesteps, input_dim), return_sequences=True,bias_regularizer=reg ))\n",
    "model.add(BatchNormalization())\n",
    "model.add(Dropout(0.50))\n",
    "model.add(LSTM(32))\n",
    "model.add(Dropout(0.50))\n",
    "model.add(Dense(n_classes, activation='sigmoid'))\n",
    "model.compile(loss='categorical_crossentropy',\n",
    "          optimizer='adam',\n",
    "          metrics=['accuracy'])\n",
    "# Training the model\n",
    "trained_model  = model.fit(X_train,\n",
    "                           Y_train,\n",
    "                           batch_size=n_batch,\n",
    "                           validation_data=(X_test, Y_test),\n",
    "                           epochs=epochs)"
   ]
  },
  {
   "cell_type": "markdown",
   "metadata": {},
   "source": [
    "### Plotting Epochs vs Loss"
   ]
  },
  {
   "cell_type": "code",
   "execution_count": 54,
   "metadata": {},
   "outputs": [
    {
     "data": {
      "image/png": "[encoded data removed]",
      "text/plain": [
       "<Figure size 432x288 with 1 Axes>"
      ]
     },
     "metadata": {},
     "output_type": "display_data"
    }
   ],
   "source": [
    "% matplotlib inline\n",
    "import matplotlib.pyplot as plt\n",
    "\n",
    "# Plot train and cross validation error\n",
    "plot_train_cv_loss(trained_model, epochs)"
   ]
  },
  {
   "cell_type": "markdown",
   "metadata": {},
   "source": [
    "__From epoch 10, we starts to overfit the model, so best value for epoch is 10__"
   ]
  },
  {
   "cell_type": "markdown",
   "metadata": {},
   "source": [
    "### Plotting Confusion Matrix"
   ]
  },
  {
   "cell_type": "code",
   "execution_count": 61,
   "metadata": {},
   "outputs": [
    {
     "name": "stdout",
     "output_type": "stream",
     "text": [
      "Test Accuracy: 90.498812%\n"
     ]
    },
    {
     "data": {
      "image/png": "[encoded data removed]",
      "text/plain": [
       "<Figure size 864x720 with 2 Axes>"
      ]
     },
     "metadata": {},
     "output_type": "display_data"
    }
   ],
   "source": [
    "import seaborn as sns\n",
    "\n",
    "scores = model.evaluate(X_test, Y_test, verbose=0)\n",
    "print(\"Test Accuracy: %f%%\" % (scores[1]*100))\n",
    "\n",
    "Y_true = pd.Series([ACTIVITIES[y] for y in np.argmax(Y_test, axis=1)])\n",
    "Y_predictions = pd.Series([ACTIVITIES[y] for y in np.argmax(model.predict(X_test), axis=1)])\n",
    "\n",
    "# Confusion Matrix\n",
    "plot_confusion_matrix_lstm(Y_true, Y_predictions)"
   ]
  },
  {
   "cell_type": "markdown",
   "metadata": {},
   "source": [
    "> __LSTM Units= 32 , DropOut= 0.25__"
   ]
  },
  {
   "cell_type": "code",
   "execution_count": 62,
   "metadata": {},
   "outputs": [
    {
     "name": "stdout",
     "output_type": "stream",
     "text": [
      "Train on 7352 samples, validate on 2947 samples\n",
      "Epoch 1/30\n",
      "7352/7352 [==============================] - 85s 12ms/step - loss: 1.4139 - acc: 0.6511 - val_loss: 1.0345 - val_acc: 0.7733\n",
      "Epoch 2/30\n",
      "7352/7352 [==============================] - 82s 11ms/step - loss: 0.6820 - acc: 0.8478 - val_loss: 0.9108 - val_acc: 0.7353\n",
      "Epoch 3/30\n",
      "7352/7352 [==============================] - 82s 11ms/step - loss: 0.3863 - acc: 0.9063 - val_loss: 0.7907 - val_acc: 0.7251\n",
      "Epoch 4/30\n",
      "7352/7352 [==============================] - 82s 11ms/step - loss: 0.2706 - acc: 0.9234 - val_loss: 0.4915 - val_acc: 0.8409\n",
      "Epoch 5/30\n",
      "7352/7352 [==============================] - 82s 11ms/step - loss: 0.2132 - acc: 0.9317 - val_loss: 0.2458 - val_acc: 0.9108\n",
      "Epoch 6/30\n",
      "7352/7352 [==============================] - 82s 11ms/step - loss: 0.2573 - acc: 0.9195 - val_loss: 0.3387 - val_acc: 0.8778\n",
      "Epoch 7/30\n",
      "7352/7352 [==============================] - 82s 11ms/step - loss: 0.2000 - acc: 0.9347 - val_loss: 0.3301 - val_acc: 0.8785\n",
      "Epoch 8/30\n",
      "7352/7352 [==============================] - 82s 11ms/step - loss: 0.1730 - acc: 0.9393 - val_loss: 0.2687 - val_acc: 0.8989\n",
      "Epoch 9/30\n",
      "7352/7352 [==============================] - 82s 11ms/step - loss: 0.1561 - acc: 0.9425 - val_loss: 0.2519 - val_acc: 0.9053\n",
      "Epoch 10/30\n",
      "7352/7352 [==============================] - 82s 11ms/step - loss: 0.1549 - acc: 0.9423 - val_loss: 0.2831 - val_acc: 0.9013\n",
      "Epoch 11/30\n",
      "7352/7352 [==============================] - 82s 11ms/step - loss: 0.1554 - acc: 0.9406 - val_loss: 0.2537 - val_acc: 0.9067\n",
      "Epoch 12/30\n",
      "7352/7352 [==============================] - 82s 11ms/step - loss: 0.1676 - acc: 0.9381 - val_loss: 0.2953 - val_acc: 0.8992\n",
      "Epoch 13/30\n",
      "7352/7352 [==============================] - 83s 11ms/step - loss: 0.1447 - acc: 0.9475 - val_loss: 0.2375 - val_acc: 0.9192\n",
      "Epoch 14/30\n",
      "7352/7352 [==============================] - 82s 11ms/step - loss: 0.1370 - acc: 0.9472 - val_loss: 0.3096 - val_acc: 0.9036\n",
      "Epoch 15/30\n",
      "7352/7352 [==============================] - 82s 11ms/step - loss: 0.1534 - acc: 0.9395 - val_loss: 0.2989 - val_acc: 0.9030\n",
      "Epoch 16/30\n",
      "7352/7352 [==============================] - 82s 11ms/step - loss: 0.1520 - acc: 0.9412 - val_loss: 0.3587 - val_acc: 0.8846\n",
      "Epoch 17/30\n",
      "7352/7352 [==============================] - 82s 11ms/step - loss: 0.1505 - acc: 0.9402 - val_loss: 0.2024 - val_acc: 0.9169\n",
      "Epoch 18/30\n",
      "7352/7352 [==============================] - 82s 11ms/step - loss: 0.1323 - acc: 0.9472 - val_loss: 0.3078 - val_acc: 0.9040\n",
      "Epoch 19/30\n",
      "7352/7352 [==============================] - 82s 11ms/step - loss: 0.1245 - acc: 0.9513 - val_loss: 0.3032 - val_acc: 0.9043\n",
      "Epoch 20/30\n",
      "7352/7352 [==============================] - 82s 11ms/step - loss: 0.1304 - acc: 0.9489 - val_loss: 0.3449 - val_acc: 0.8765\n",
      "Epoch 21/30\n",
      "7352/7352 [==============================] - 82s 11ms/step - loss: 0.1481 - acc: 0.9437 - val_loss: 0.2843 - val_acc: 0.9118\n",
      "Epoch 22/30\n",
      "7352/7352 [==============================] - 82s 11ms/step - loss: 0.1401 - acc: 0.9486 - val_loss: 0.2339 - val_acc: 0.9111\n",
      "Epoch 23/30\n",
      "7352/7352 [==============================] - 82s 11ms/step - loss: 0.1330 - acc: 0.9490 - val_loss: 0.3379 - val_acc: 0.8856\n",
      "Epoch 24/30\n",
      "7352/7352 [==============================] - 82s 11ms/step - loss: 0.1280 - acc: 0.9504 - val_loss: 0.2549 - val_acc: 0.9148\n",
      "Epoch 25/30\n",
      "7352/7352 [==============================] - 83s 11ms/step - loss: 0.1229 - acc: 0.9482 - val_loss: 0.2237 - val_acc: 0.9284\n",
      "Epoch 26/30\n",
      "7352/7352 [==============================] - 82s 11ms/step - loss: 0.1180 - acc: 0.9524 - val_loss: 0.2205 - val_acc: 0.9332\n",
      "Epoch 27/30\n",
      "7352/7352 [==============================] - 82s 11ms/step - loss: 0.1195 - acc: 0.9510 - val_loss: 0.2624 - val_acc: 0.9179\n",
      "Epoch 28/30\n",
      "7352/7352 [==============================] - 83s 11ms/step - loss: 0.1209 - acc: 0.9504 - val_loss: 0.3642 - val_acc: 0.8700\n",
      "Epoch 29/30\n",
      "7352/7352 [==============================] - 82s 11ms/step - loss: 0.1951 - acc: 0.9328 - val_loss: 0.3181 - val_acc: 0.9043\n",
      "Epoch 30/30\n",
      "7352/7352 [==============================] - 82s 11ms/step - loss: 0.1496 - acc: 0.9460 - val_loss: 0.2358 - val_acc: 0.9148\n"
     ]
    }
   ],
   "source": [
    "from keras.layers import LSTM , BatchNormalization\n",
    "from keras.layers.core import Dense, Dropout\n",
    "# Model execution\n",
    "model = Sequential()\n",
    "model.add(LSTM(32, input_shape=(timesteps, input_dim), return_sequences=True,bias_regularizer=reg ))\n",
    "model.add(BatchNormalization())\n",
    "model.add(Dropout(0.25))\n",
    "model.add(LSTM(32))\n",
    "model.add(Dropout(0.25))\n",
    "model.add(Dense(n_classes, activation='sigmoid'))\n",
    "model.compile(loss='categorical_crossentropy',\n",
    "          optimizer='adam',\n",
    "          metrics=['accuracy'])\n",
    "# Training the model\n",
    "trained_model  = model.fit(X_train,\n",
    "                           Y_train,\n",
    "                           batch_size=n_batch,\n",
    "                           validation_data=(X_test, Y_test),\n",
    "                           epochs=epochs)"
   ]
  },
  {
   "cell_type": "markdown",
   "metadata": {},
   "source": [
    "### Plotting epochs vs Loss"
   ]
  },
  {
   "cell_type": "code",
   "execution_count": 63,
   "metadata": {},
   "outputs": [
    {
     "data": {
      "image/png": "[encoded data removed]",
      "text/plain": [
       "<Figure size 432x288 with 1 Axes>"
      ]
     },
     "metadata": {},
     "output_type": "display_data"
    }
   ],
   "source": [
    "# Plot train and cross validation error\n",
    "plot_train_cv_loss(trained_model, epochs)"
   ]
  },
  {
   "cell_type": "markdown",
   "metadata": {},
   "source": [
    "### Plotting Confusion Matrix"
   ]
  },
  {
   "cell_type": "code",
   "execution_count": 64,
   "metadata": {},
   "outputs": [
    {
     "name": "stdout",
     "output_type": "stream",
     "text": [
      "Test Accuracy: 91.482864%\n"
     ]
    },
    {
     "data": {
      "image/png": "[encoded data removed]",
      "text/plain": [
       "<Figure size 864x720 with 2 Axes>"
      ]
     },
     "metadata": {},
     "output_type": "display_data"
    }
   ],
   "source": [
    "scores = model.evaluate(X_test, Y_test, verbose=0)\n",
    "print(\"Test Accuracy: %f%%\" % (scores[1]*100))\n",
    "Y_true = pd.Series([ACTIVITIES[y] for y in np.argmax(Y_test, axis=1)])\n",
    "Y_predictions = pd.Series([ACTIVITIES[y] for y in np.argmax(model.predict(X_test), axis=1)])\n",
    "\n",
    "# Confusion Matrix\n",
    "plot_confusion_matrix_lstm(Y_true, Y_predictions)"
   ]
  },
  {
   "cell_type": "markdown",
   "metadata": {},
   "source": [
    "> __LSTM Units= 64,  Dropout =0.50__"
   ]
  },
  {
   "cell_type": "code",
   "execution_count": 65,
   "metadata": {},
   "outputs": [
    {
     "name": "stdout",
     "output_type": "stream",
     "text": [
      "Train on 7352 samples, validate on 2947 samples\n",
      "Epoch 1/30\n",
      "7352/7352 [==============================] - 135s 18ms/step - loss: 1.8012 - acc: 0.6477 - val_loss: 1.3358 - val_acc: 0.6956\n",
      "Epoch 2/30\n",
      "7352/7352 [==============================] - 109s 15ms/step - loss: 0.8502 - acc: 0.8311 - val_loss: 0.5815 - val_acc: 0.8833\n",
      "Epoch 3/30\n",
      "7352/7352 [==============================] - 106s 14ms/step - loss: 0.3816 - acc: 0.9064 - val_loss: 0.3977 - val_acc: 0.8778\n",
      "Epoch 4/30\n",
      "7352/7352 [==============================] - 105s 14ms/step - loss: 0.2546 - acc: 0.9170 - val_loss: 0.2446 - val_acc: 0.9138\n",
      "Epoch 5/30\n",
      "7352/7352 [==============================] - 106s 14ms/step - loss: 0.2292 - acc: 0.9223 - val_loss: 0.5429 - val_acc: 0.8578\n",
      "Epoch 6/30\n",
      "7352/7352 [==============================] - 109s 15ms/step - loss: 0.2293 - acc: 0.9212 - val_loss: 0.2791 - val_acc: 0.8989\n",
      "Epoch 7/30\n",
      "7352/7352 [==============================] - 128s 17ms/step - loss: 0.1958 - acc: 0.9300 - val_loss: 0.3770 - val_acc: 0.8972\n",
      "Epoch 8/30\n",
      "7352/7352 [==============================] - 120s 16ms/step - loss: 0.1788 - acc: 0.9357 - val_loss: 0.2333 - val_acc: 0.9114\n",
      "Epoch 9/30\n",
      "7352/7352 [==============================] - 114s 16ms/step - loss: 0.1640 - acc: 0.9400 - val_loss: 0.3812 - val_acc: 0.8894\n",
      "Epoch 10/30\n",
      "7352/7352 [==============================] - 116s 16ms/step - loss: 0.1614 - acc: 0.9411 - val_loss: 0.3206 - val_acc: 0.9040\n",
      "Epoch 11/30\n",
      "7352/7352 [==============================] - 108s 15ms/step - loss: 0.1692 - acc: 0.9328 - val_loss: 0.2678 - val_acc: 0.9128\n",
      "Epoch 12/30\n",
      "7352/7352 [==============================] - 105s 14ms/step - loss: 0.1701 - acc: 0.9342 - val_loss: 0.3423 - val_acc: 0.8979\n",
      "Epoch 13/30\n",
      "7352/7352 [==============================] - 105s 14ms/step - loss: 0.1727 - acc: 0.9310 - val_loss: 0.3423 - val_acc: 0.9046\n",
      "Epoch 14/30\n",
      "7352/7352 [==============================] - 106s 14ms/step - loss: 0.2059 - acc: 0.9240 - val_loss: 0.3600 - val_acc: 0.9063\n",
      "Epoch 15/30\n",
      "7352/7352 [==============================] - 105s 14ms/step - loss: 0.1771 - acc: 0.9366 - val_loss: 0.2842 - val_acc: 0.9148\n",
      "Epoch 16/30\n",
      "7352/7352 [==============================] - 105s 14ms/step - loss: 0.1573 - acc: 0.9354 - val_loss: 0.2961 - val_acc: 0.9145\n",
      "Epoch 17/30\n",
      "7352/7352 [==============================] - 105s 14ms/step - loss: 0.1566 - acc: 0.9425 - val_loss: 0.3109 - val_acc: 0.9067\n",
      "Epoch 18/30\n",
      "7352/7352 [==============================] - 105s 14ms/step - loss: 0.1420 - acc: 0.9450 - val_loss: 0.3188 - val_acc: 0.9175\n",
      "Epoch 19/30\n",
      "7352/7352 [==============================] - 104s 14ms/step - loss: 0.1440 - acc: 0.9453 - val_loss: 0.3745 - val_acc: 0.9104\n",
      "Epoch 20/30\n",
      "7352/7352 [==============================] - 105s 14ms/step - loss: 0.1590 - acc: 0.9387 - val_loss: 0.3429 - val_acc: 0.9067\n",
      "Epoch 21/30\n",
      "7352/7352 [==============================] - 104s 14ms/step - loss: 0.1404 - acc: 0.9437 - val_loss: 0.3440 - val_acc: 0.9084\n",
      "Epoch 22/30\n",
      "7352/7352 [==============================] - 105s 14ms/step - loss: 0.1696 - acc: 0.9381 - val_loss: 0.4221 - val_acc: 0.9080\n",
      "Epoch 23/30\n",
      "7352/7352 [==============================] - 104s 14ms/step - loss: 0.1579 - acc: 0.9416 - val_loss: 0.3209 - val_acc: 0.9023\n",
      "Epoch 24/30\n",
      "7352/7352 [==============================] - 104s 14ms/step - loss: 0.1594 - acc: 0.9376 - val_loss: 0.3756 - val_acc: 0.8945\n",
      "Epoch 25/30\n",
      "7352/7352 [==============================] - 106s 14ms/step - loss: 0.1450 - acc: 0.9433 - val_loss: 0.3771 - val_acc: 0.9026\n",
      "Epoch 26/30\n",
      "7352/7352 [==============================] - 105s 14ms/step - loss: 0.1417 - acc: 0.9408 - val_loss: 0.4485 - val_acc: 0.9009\n",
      "Epoch 27/30\n",
      "7352/7352 [==============================] - 104s 14ms/step - loss: 0.1621 - acc: 0.9391 - val_loss: 0.3651 - val_acc: 0.9046\n",
      "Epoch 28/30\n",
      "7352/7352 [==============================] - 105s 14ms/step - loss: 0.1465 - acc: 0.9444 - val_loss: 0.2696 - val_acc: 0.9158\n",
      "Epoch 29/30\n",
      "7352/7352 [==============================] - 105s 14ms/step - loss: 0.1790 - acc: 0.9392 - val_loss: 0.4313 - val_acc: 0.8778\n",
      "Epoch 30/30\n",
      "7352/7352 [==============================] - 105s 14ms/step - loss: 0.1511 - acc: 0.9440 - val_loss: 0.3471 - val_acc: 0.9128\n"
     ]
    }
   ],
   "source": [
    "# Model execution\n",
    "model = Sequential()\n",
    "model.add(LSTM(64, input_shape=(timesteps, input_dim), return_sequences=True, bias_regularizer=reg))\n",
    "model.add(BatchNormalization())\n",
    "model.add(Dropout(0.50))\n",
    "model.add(LSTM(50))\n",
    "model.add(Dropout(0.50))\n",
    "model.add(Dense(n_classes, activation='sigmoid'))\n",
    "model.compile(loss='categorical_crossentropy',\n",
    "          optimizer='adam',\n",
    "          metrics=['accuracy'])\n",
    "# Training the model\n",
    "trained_model  = model.fit(X_train,\n",
    "                           Y_train,\n",
    "                           batch_size=n_batch,\n",
    "                           validation_data=(X_test, Y_test),\n",
    "                           epochs=epochs)"
   ]
  },
  {
   "cell_type": "markdown",
   "metadata": {},
   "source": [
    "### Plotting Epochs vs Loss"
   ]
  },
  {
   "cell_type": "code",
   "execution_count": 66,
   "metadata": {},
   "outputs": [
    {
     "data": {
      "image/png": "[encoded data removed]",
      "text/plain": [
       "<Figure size 432x288 with 1 Axes>"
      ]
     },
     "metadata": {},
     "output_type": "display_data"
    }
   ],
   "source": [
    "# Plot train and cross validation error\n",
    "plot_train_cv_loss(trained_model, epochs)"
   ]
  },
  {
   "cell_type": "markdown",
   "metadata": {},
   "source": [
    "__From epoch 8, we starts to overfit the model, so best value for epoch is 8__"
   ]
  },
  {
   "cell_type": "markdown",
   "metadata": {},
   "source": [
    "### Plotting Confusion Matrix"
   ]
  },
  {
   "cell_type": "code",
   "execution_count": 67,
   "metadata": {},
   "outputs": [
    {
     "name": "stdout",
     "output_type": "stream",
     "text": [
      "Test Accuracy: 91.279267%\n"
     ]
    },
    {
     "data": {
      "image/png": "[encoded data removed]",
      "text/plain": [
       "<Figure size 864x720 with 2 Axes>"
      ]
     },
     "metadata": {},
     "output_type": "display_data"
    }
   ],
   "source": [
    "scores = model.evaluate(X_test, Y_test, verbose=0)\n",
    "print(\"Test Accuracy: %f%%\" % (scores[1]*100))\n",
    "Y_true = pd.Series([ACTIVITIES[y] for y in np.argmax(Y_test, axis=1)])\n",
    "Y_predictions = pd.Series([ACTIVITIES[y] for y in np.argmax(model.predict(X_test), axis=1)])\n",
    "\n",
    "# Confusion Matrix\n",
    "plot_confusion_matrix_lstm(Y_true, Y_predictions)"
   ]
  },
  {
   "cell_type": "markdown",
   "metadata": {},
   "source": [
    "## Let's try by increasing the Dropout Rate to 0.7"
   ]
  },
  {
   "cell_type": "markdown",
   "metadata": {},
   "source": [
    "> __LSTM Units= 32, Dropout =0.7__"
   ]
  },
  {
   "cell_type": "code",
   "execution_count": 68,
   "metadata": {},
   "outputs": [
    {
     "name": "stdout",
     "output_type": "stream",
     "text": [
      "Train on 7352 samples, validate on 2947 samples\n",
      "Epoch 1/30\n",
      "7352/7352 [==============================] - 102s 14ms/step - loss: 1.7457 - acc: 0.5113 - val_loss: 1.5490 - val_acc: 0.5439\n",
      "Epoch 2/30\n",
      "7352/7352 [==============================] - 90s 12ms/step - loss: 1.1467 - acc: 0.5977 - val_loss: 0.8771 - val_acc: 0.6759\n",
      "Epoch 3/30\n",
      "7352/7352 [==============================] - 97s 13ms/step - loss: 0.8728 - acc: 0.6338 - val_loss: 0.7650 - val_acc: 0.6793\n",
      "Epoch 4/30\n",
      "7352/7352 [==============================] - 90s 12ms/step - loss: 0.7970 - acc: 0.6375 - val_loss: 0.7806 - val_acc: 0.6861\n",
      "Epoch 5/30\n",
      "7352/7352 [==============================] - 101s 14ms/step - loss: 0.7615 - acc: 0.6462 - val_loss: 0.7199 - val_acc: 0.6162\n",
      "Epoch 6/30\n",
      "7352/7352 [==============================] - 86s 12ms/step - loss: 0.7379 - acc: 0.6513 - val_loss: 0.6871 - val_acc: 0.6695\n",
      "Epoch 7/30\n",
      "7352/7352 [==============================] - 85s 12ms/step - loss: 0.7141 - acc: 0.6759 - val_loss: 0.6486 - val_acc: 0.6644\n",
      "Epoch 8/30\n",
      "7352/7352 [==============================] - 84s 11ms/step - loss: 0.6753 - acc: 0.7042 - val_loss: 1.0930 - val_acc: 0.6006\n",
      "Epoch 9/30\n",
      "7352/7352 [==============================] - 84s 11ms/step - loss: 0.6596 - acc: 0.7254 - val_loss: 0.5583 - val_acc: 0.7933\n",
      "Epoch 10/30\n",
      "7352/7352 [==============================] - 80s 11ms/step - loss: 0.6998 - acc: 0.7379 - val_loss: 0.5596 - val_acc: 0.7998\n",
      "Epoch 11/30\n",
      "7352/7352 [==============================] - 80s 11ms/step - loss: 0.5990 - acc: 0.7820 - val_loss: 0.4708 - val_acc: 0.8331\n",
      "Epoch 12/30\n",
      "7352/7352 [==============================] - 80s 11ms/step - loss: 0.5468 - acc: 0.7947 - val_loss: 0.4673 - val_acc: 0.8263\n",
      "Epoch 13/30\n",
      "7352/7352 [==============================] - 80s 11ms/step - loss: 0.5276 - acc: 0.7998 - val_loss: 0.4570 - val_acc: 0.8453\n",
      "Epoch 14/30\n",
      "7352/7352 [==============================] - 80s 11ms/step - loss: 0.5161 - acc: 0.8066 - val_loss: 0.4172 - val_acc: 0.8351\n",
      "Epoch 15/30\n",
      "7352/7352 [==============================] - 80s 11ms/step - loss: 0.4707 - acc: 0.8334 - val_loss: 0.4509 - val_acc: 0.8456\n",
      "Epoch 16/30\n",
      "7352/7352 [==============================] - 80s 11ms/step - loss: 0.4905 - acc: 0.8176 - val_loss: 0.3733 - val_acc: 0.8734\n",
      "Epoch 17/30\n",
      "7352/7352 [==============================] - 79s 11ms/step - loss: 0.4215 - acc: 0.8515 - val_loss: 0.3827 - val_acc: 0.8802\n",
      "Epoch 18/30\n",
      "7352/7352 [==============================] - 80s 11ms/step - loss: 0.4197 - acc: 0.8538 - val_loss: 0.3661 - val_acc: 0.8694\n",
      "Epoch 19/30\n",
      "7352/7352 [==============================] - 84s 11ms/step - loss: 0.4790 - acc: 0.8413 - val_loss: 0.8157 - val_acc: 0.7309\n",
      "Epoch 20/30\n",
      "7352/7352 [==============================] - 95s 13ms/step - loss: 0.4973 - acc: 0.8194 - val_loss: 0.3054 - val_acc: 0.8975\n",
      "Epoch 21/30\n",
      "7352/7352 [==============================] - 87s 12ms/step - loss: 0.3802 - acc: 0.8709 - val_loss: 0.2906 - val_acc: 0.8965\n",
      "Epoch 22/30\n",
      "7352/7352 [==============================] - 82s 11ms/step - loss: 0.3681 - acc: 0.8743 - val_loss: 0.2776 - val_acc: 0.9050\n",
      "Epoch 23/30\n",
      "7352/7352 [==============================] - 91s 12ms/step - loss: 0.3200 - acc: 0.8985 - val_loss: 0.2678 - val_acc: 0.9101\n",
      "Epoch 24/30\n",
      "7352/7352 [==============================] - 80s 11ms/step - loss: 0.3680 - acc: 0.8781 - val_loss: 0.2844 - val_acc: 0.9050\n",
      "Epoch 25/30\n",
      "7352/7352 [==============================] - 80s 11ms/step - loss: 0.3177 - acc: 0.9026 - val_loss: 0.2692 - val_acc: 0.9172\n",
      "Epoch 26/30\n",
      "7352/7352 [==============================] - 80s 11ms/step - loss: 0.2819 - acc: 0.9089 - val_loss: 0.2317 - val_acc: 0.9277\n",
      "Epoch 27/30\n",
      "7352/7352 [==============================] - 80s 11ms/step - loss: 0.2675 - acc: 0.9163 - val_loss: 0.3284 - val_acc: 0.8856\n",
      "Epoch 28/30\n",
      "7352/7352 [==============================] - 80s 11ms/step - loss: 0.3114 - acc: 0.8998 - val_loss: 0.3591 - val_acc: 0.8778\n",
      "Epoch 29/30\n",
      "7352/7352 [==============================] - 80s 11ms/step - loss: 0.3362 - acc: 0.9000 - val_loss: 0.2591 - val_acc: 0.9128\n",
      "Epoch 30/30\n",
      "7352/7352 [==============================] - 80s 11ms/step - loss: 0.2562 - acc: 0.9163 - val_loss: 0.2447 - val_acc: 0.9172\n"
     ]
    }
   ],
   "source": [
    "# Model execution\n",
    "model = Sequential()\n",
    "model.add(LSTM(32, input_shape=(timesteps, input_dim), return_sequences=True, bias_regularizer=reg))\n",
    "model.add(BatchNormalization())\n",
    "model.add(Dropout(0.70))\n",
    "model.add(LSTM(32))\n",
    "model.add(Dropout(0.70))\n",
    "model.add(Dense(n_classes, activation='sigmoid'))\n",
    "model.compile(loss='categorical_crossentropy',\n",
    "          optimizer='adam',\n",
    "          metrics=['accuracy'])\n",
    "# Training the model\n",
    "trained_model  = model.fit(X_train,\n",
    "                           Y_train,\n",
    "                           batch_size=n_batch,\n",
    "                           validation_data=(X_test, Y_test),\n",
    "                           epochs=epochs)"
   ]
  },
  {
   "cell_type": "markdown",
   "metadata": {},
   "source": [
    "### Plotting epochs vs Loss"
   ]
  },
  {
   "cell_type": "code",
   "execution_count": 69,
   "metadata": {},
   "outputs": [
    {
     "data": {
      "image/png": "[encoded data removed]",
      "text/plain": [
       "<Figure size 432x288 with 1 Axes>"
      ]
     },
     "metadata": {},
     "output_type": "display_data"
    }
   ],
   "source": [
    "# Plot train and cross validation error\n",
    "plot_train_cv_loss(trained_model, epochs)"
   ]
  },
  {
   "cell_type": "markdown",
   "metadata": {},
   "source": [
    "__From epoch 9, we starts to overfit the model, so best value for epoch is 9__"
   ]
  },
  {
   "cell_type": "markdown",
   "metadata": {},
   "source": [
    "### Plotting Confusion Matrix"
   ]
  },
  {
   "cell_type": "code",
   "execution_count": 70,
   "metadata": {},
   "outputs": [
    {
     "name": "stdout",
     "output_type": "stream",
     "text": [
      "Test Accuracy: 91.720394%\n"
     ]
    },
    {
     "data": {
      "image/png": "[encoded data removed]",
      "text/plain": [
       "<Figure size 864x720 with 2 Axes>"
      ]
     },
     "metadata": {},
     "output_type": "display_data"
    }
   ],
   "source": [
    "scores = model.evaluate(X_test, Y_test, verbose=0)\n",
    "print(\"Test Accuracy: %f%%\" % (scores[1]*100))\n",
    "\n",
    "Y_true = pd.Series([ACTIVITIES[y] for y in np.argmax(Y_test, axis=1)])\n",
    "Y_predictions = pd.Series([ACTIVITIES[y] for y in np.argmax(model.predict(X_test), axis=1)])\n",
    "\n",
    "# Confusion Matrix\n",
    "plot_confusion_matrix_lstm(Y_true, Y_predictions)"
   ]
  },
  {
   "cell_type": "markdown",
   "metadata": {},
   "source": [
    "> __LSTM Units = 64 with Dropout= 0.7__"
   ]
  },
  {
   "cell_type": "code",
   "execution_count": 71,
   "metadata": {},
   "outputs": [
    {
     "name": "stdout",
     "output_type": "stream",
     "text": [
      "Train on 7352 samples, validate on 2947 samples\n",
      "Epoch 1/30\n",
      "7352/7352 [==============================] - 113s 15ms/step - loss: 2.0342 - acc: 0.5740 - val_loss: 1.4051 - val_acc: 0.6586\n",
      "Epoch 2/30\n",
      "7352/7352 [==============================] - 106s 14ms/step - loss: 1.1879 - acc: 0.6488 - val_loss: 0.8965 - val_acc: 0.7048\n",
      "Epoch 3/30\n",
      "7352/7352 [==============================] - 119s 16ms/step - loss: 0.8405 - acc: 0.6725 - val_loss: 0.6462 - val_acc: 0.7543\n",
      "Epoch 4/30\n",
      "7352/7352 [==============================] - 113s 15ms/step - loss: 0.6449 - acc: 0.7360 - val_loss: 0.5011 - val_acc: 0.8107\n",
      "Epoch 5/30\n",
      "7352/7352 [==============================] - 108s 15ms/step - loss: 0.5405 - acc: 0.8112 - val_loss: 0.4277 - val_acc: 0.8429\n",
      "Epoch 6/30\n",
      "7352/7352 [==============================] - 122s 17ms/step - loss: 0.4521 - acc: 0.8570 - val_loss: 0.6293 - val_acc: 0.7587\n",
      "Epoch 7/30\n",
      "7352/7352 [==============================] - 124s 17ms/step - loss: 0.4124 - acc: 0.8770 - val_loss: 0.3884 - val_acc: 0.8599\n",
      "Epoch 8/30\n",
      "7352/7352 [==============================] - 117s 16ms/step - loss: 0.4065 - acc: 0.8648 - val_loss: 0.3564 - val_acc: 0.8846\n",
      "Epoch 9/30\n",
      "7352/7352 [==============================] - 107s 15ms/step - loss: 0.3385 - acc: 0.8949 - val_loss: 0.4629 - val_acc: 0.8331\n",
      "Epoch 10/30\n",
      "7352/7352 [==============================] - 117s 16ms/step - loss: 0.3020 - acc: 0.9066 - val_loss: 0.2786 - val_acc: 0.9080\n",
      "Epoch 11/30\n",
      "7352/7352 [==============================] - 111s 15ms/step - loss: 0.2441 - acc: 0.9246 - val_loss: 0.2918 - val_acc: 0.9043\n",
      "Epoch 12/30\n",
      "7352/7352 [==============================] - 141s 19ms/step - loss: 0.3051 - acc: 0.9041 - val_loss: 0.2715 - val_acc: 0.8951\n",
      "Epoch 13/30\n",
      "7352/7352 [==============================] - 110s 15ms/step - loss: 0.2637 - acc: 0.9161 - val_loss: 0.8909 - val_acc: 0.7913\n",
      "Epoch 14/30\n",
      "7352/7352 [==============================] - 117s 16ms/step - loss: 0.2754 - acc: 0.9129 - val_loss: 0.3068 - val_acc: 0.8945\n",
      "Epoch 15/30\n",
      "7352/7352 [==============================] - 113s 15ms/step - loss: 0.2824 - acc: 0.9149 - val_loss: 0.3008 - val_acc: 0.8985\n",
      "Epoch 16/30\n",
      "7352/7352 [==============================] - 107s 15ms/step - loss: 0.2209 - acc: 0.9275 - val_loss: 0.3298 - val_acc: 0.8945\n",
      "Epoch 17/30\n",
      "7352/7352 [==============================] - 107s 15ms/step - loss: 0.2179 - acc: 0.9251 - val_loss: 0.2996 - val_acc: 0.9084\n",
      "Epoch 18/30\n",
      "7352/7352 [==============================] - 107s 15ms/step - loss: 0.2168 - acc: 0.9248 - val_loss: 0.3311 - val_acc: 0.9019\n",
      "Epoch 19/30\n",
      "7352/7352 [==============================] - 106s 14ms/step - loss: 0.1991 - acc: 0.9306 - val_loss: 0.3686 - val_acc: 0.8860\n",
      "Epoch 20/30\n",
      "7352/7352 [==============================] - 108s 15ms/step - loss: 0.2114 - acc: 0.9317 - val_loss: 0.3788 - val_acc: 0.8945\n",
      "Epoch 21/30\n",
      "7352/7352 [==============================] - 107s 15ms/step - loss: 0.2372 - acc: 0.9225 - val_loss: 0.3350 - val_acc: 0.8989\n",
      "Epoch 22/30\n",
      "7352/7352 [==============================] - 107s 14ms/step - loss: 0.1970 - acc: 0.9382 - val_loss: 0.3956 - val_acc: 0.8744\n",
      "Epoch 23/30\n",
      "7352/7352 [==============================] - 107s 15ms/step - loss: 0.2116 - acc: 0.9320 - val_loss: 0.4254 - val_acc: 0.8653\n",
      "Epoch 24/30\n",
      "7352/7352 [==============================] - 107s 15ms/step - loss: 0.1911 - acc: 0.9380 - val_loss: 0.4528 - val_acc: 0.8867\n",
      "Epoch 25/30\n",
      "7352/7352 [==============================] - 107s 15ms/step - loss: 0.1911 - acc: 0.9351 - val_loss: 0.3471 - val_acc: 0.8958\n",
      "Epoch 26/30\n",
      "7352/7352 [==============================] - 108s 15ms/step - loss: 0.1862 - acc: 0.9368 - val_loss: 0.3041 - val_acc: 0.9057\n",
      "Epoch 27/30\n",
      "7352/7352 [==============================] - 108s 15ms/step - loss: 0.1965 - acc: 0.9357 - val_loss: 0.3977 - val_acc: 0.8992\n",
      "Epoch 28/30\n",
      "7352/7352 [==============================] - 108s 15ms/step - loss: 0.1743 - acc: 0.9414 - val_loss: 0.3247 - val_acc: 0.9131\n",
      "Epoch 29/30\n",
      "7352/7352 [==============================] - 108s 15ms/step - loss: 0.1890 - acc: 0.9359 - val_loss: 1.7274 - val_acc: 0.6518\n",
      "Epoch 30/30\n",
      "7352/7352 [==============================] - 107s 15ms/step - loss: 0.2571 - acc: 0.9180 - val_loss: 0.3656 - val_acc: 0.8968\n"
     ]
    }
   ],
   "source": [
    "# Model execution\n",
    "model = Sequential()\n",
    "model.add(LSTM(64, input_shape=(timesteps, input_dim), return_sequences=True, bias_regularizer=reg))\n",
    "model.add(BatchNormalization())\n",
    "model.add(Dropout(0.70))\n",
    "model.add(LSTM(50))\n",
    "model.add(Dropout(0.70))\n",
    "model.add(Dense(n_classes, activation='sigmoid'))\n",
    "model.compile(loss='categorical_crossentropy',\n",
    "          optimizer='adam',\n",
    "          metrics=['accuracy'])\n",
    "# Training the model\n",
    "trained_model  = model.fit(X_train,\n",
    "                           Y_train,\n",
    "                           batch_size=n_batch,\n",
    "                           validation_data=(X_test, Y_test),\n",
    "                           epochs=epochs)"
   ]
  },
  {
   "cell_type": "markdown",
   "metadata": {},
   "source": [
    "### Plotting epochs vs Loss"
   ]
  },
  {
   "cell_type": "code",
   "execution_count": 72,
   "metadata": {},
   "outputs": [
    {
     "data": {
      "image/png": "[encoded data removed]",
      "text/plain": [
       "<Figure size 432x288 with 1 Axes>"
      ]
     },
     "metadata": {},
     "output_type": "display_data"
    }
   ],
   "source": [
    "# Plot train and cross validation error\n",
    "plot_train_cv_loss(trained_model, epochs)"
   ]
  },
  {
   "cell_type": "markdown",
   "metadata": {},
   "source": [
    "### Plotting Confusion Matrix"
   ]
  },
  {
   "cell_type": "code",
   "execution_count": null,
   "metadata": {},
   "outputs": [],
   "source": [
    "scores = model.evaluate(X_test, Y_test, verbose=0)\n",
    "print(\"Test Accuracy: %f%%\" % (scores[1]*100))\n",
    "Y_true = pd.Series([ACTIVITIES[y] for y in np.argmax(Y_test, axis=1)])\n",
    "Y_predictions = pd.Series([ACTIVITIES[y] for y in np.argmax(model.predict(Y_test), axis=1)])\n",
    "\n",
    "# Confusion Matrix\n",
    "plot_confusion_matrix_lstm(Y_true, Y_predictions)"
   ]
  },
  {
   "cell_type": "markdown",
   "metadata": {},
   "source": [
    "## Pretty Table"
   ]
  },
  {
   "cell_type": "code",
   "execution_count": null,
   "metadata": {},
   "outputs": [],
   "source": [
    "from prettytable import PrettyTable\n",
    "ptable = PrettyTable()\n",
    "ptable.title = \" Model Comparision \"\n",
    "ptable.field_names = [\"LSTM Layers\",'LSTM Units','Dropout', 'Test Accuracy']\n",
    "ptable.add_row([\"1\",\"32\",\"0.50\",\"88%\"])\n",
    "ptable.add_row([\"1\",\"32\",\"0.25\",\"90%\"])\n",
    "ptable.add_row([\"2\",\"32\",\"0.50\",\"90.49%\"])\n",
    "ptable.add_row([\"2\",\"32\",\"0.25\",\"91.48%\"])\n",
    "ptable.add_row([\"2\",\"64\",\"0.50\",\"91.28%\"])\n",
    "ptable.add_row([\"2\",\"32\",\"0.70\",\"91.72%\"])\n",
    "ptable.add_row([\"2\",\"64\",\"0.70\",\"89.68\"])\n",
    "print(ptable)"
   ]
  },
  {
   "cell_type": "markdown",
   "metadata": {},
   "source": [
    "## Conclusion:\n",
    "1. It is very easy to Overfit in LSTM, since the number of datapoints is small and No. of Parameters is Large. So, we can't train much complex networks.\n",
    "1. To prevent Overfiting we use the DropOut Layer. We checked using different DropOut Rates, to make out model perform well.\n",
    "1. The best Accuracy=91.72% which is produced when we gave LSTM Units=32, LSTM Layers=2, DropOut rate=0.70. \n",
    "1. Tuning the Hyperparameter is very important to get better results.\n",
    "1. Deep Learning Models performed fairly well, but Feature engineered ML Models gave better accuracy."
   ]
  },
  {
   "cell_type": "code",
   "execution_count": null,
   "metadata": {},
   "outputs": [],
   "source": []
  }
 ],
 "metadata": {
  "kernelspec": {
   "display_name": "Python 3",
   "language": "python",
   "name": "python3"
  },
  "language_info": {
   "codemirror_mode": {
    "name": "ipython",
    "version": 3
   },
   "file_extension": ".py",
   "mimetype": "text/x-python",
   "name": "python",
   "nbconvert_exporter": "python",
   "pygments_lexer": "ipython3",
   "version": "3.6.5"
  }
 },
 "nbformat": 4,
 "nbformat_minor": 2
}
